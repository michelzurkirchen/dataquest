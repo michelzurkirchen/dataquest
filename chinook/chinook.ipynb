{
 "cells": [
  {
   "cell_type": "markdown",
   "metadata": {},
   "source": [
    "# Record store data\n",
    "## DataQuest project\n",
    "\n",
    "This notebook is part of the Dataquest.io curriculum.\n",
    "\n",
    "#### Scenario\n",
    "The fictitious company Chinook is a record store and has several business inquiries that require data to base decisions on. These questions are:\n",
    "\n",
    "1. Which genres sell best in the USA?\n",
    "2. Which sales support agent performs best in terms of revenue brought in?\n",
    "3. Which countries bring in the most revenue?\n",
    "4. Whether consumers purchase single tracks or whole albums.\n",
    "\n",
    "#### Dataset\n",
    "A sqlite database of record sales."
   ]
  },
  {
   "cell_type": "code",
   "execution_count": 1,
   "metadata": {},
   "outputs": [],
   "source": [
    "%%capture\n",
    "%load_ext sql\n",
    "%sql sqlite:///chinook.db"
   ]
  },
  {
   "cell_type": "code",
   "execution_count": 2,
   "metadata": {},
   "outputs": [
    {
     "name": "stdout",
     "output_type": "stream",
     "text": [
      " * sqlite:///chinook.db\n",
      "Done.\n"
     ]
    },
    {
     "data": {
      "text/html": [
       "<table>\n",
       "    <tr>\n",
       "        <th>name</th>\n",
       "        <th>type</th>\n",
       "    </tr>\n",
       "    <tr>\n",
       "        <td>album</td>\n",
       "        <td>table</td>\n",
       "    </tr>\n",
       "    <tr>\n",
       "        <td>artist</td>\n",
       "        <td>table</td>\n",
       "    </tr>\n",
       "    <tr>\n",
       "        <td>customer</td>\n",
       "        <td>table</td>\n",
       "    </tr>\n",
       "    <tr>\n",
       "        <td>employee</td>\n",
       "        <td>table</td>\n",
       "    </tr>\n",
       "    <tr>\n",
       "        <td>genre</td>\n",
       "        <td>table</td>\n",
       "    </tr>\n",
       "    <tr>\n",
       "        <td>invoice</td>\n",
       "        <td>table</td>\n",
       "    </tr>\n",
       "    <tr>\n",
       "        <td>invoice_line</td>\n",
       "        <td>table</td>\n",
       "    </tr>\n",
       "    <tr>\n",
       "        <td>media_type</td>\n",
       "        <td>table</td>\n",
       "    </tr>\n",
       "    <tr>\n",
       "        <td>playlist</td>\n",
       "        <td>table</td>\n",
       "    </tr>\n",
       "    <tr>\n",
       "        <td>playlist_track</td>\n",
       "        <td>table</td>\n",
       "    </tr>\n",
       "    <tr>\n",
       "        <td>track</td>\n",
       "        <td>table</td>\n",
       "    </tr>\n",
       "    <tr>\n",
       "        <td>purchased</td>\n",
       "        <td>view</td>\n",
       "    </tr>\n",
       "    <tr>\n",
       "        <td>albums</td>\n",
       "        <td>view</td>\n",
       "    </tr>\n",
       "    <tr>\n",
       "        <td>overall</td>\n",
       "        <td>view</td>\n",
       "    </tr>\n",
       "</table>"
      ],
      "text/plain": [
       "[('album', 'table'),\n",
       " ('artist', 'table'),\n",
       " ('customer', 'table'),\n",
       " ('employee', 'table'),\n",
       " ('genre', 'table'),\n",
       " ('invoice', 'table'),\n",
       " ('invoice_line', 'table'),\n",
       " ('media_type', 'table'),\n",
       " ('playlist', 'table'),\n",
       " ('playlist_track', 'table'),\n",
       " ('track', 'table'),\n",
       " ('purchased', 'view'),\n",
       " ('albums', 'view'),\n",
       " ('overall', 'view')]"
      ]
     },
     "execution_count": 2,
     "metadata": {},
     "output_type": "execute_result"
    }
   ],
   "source": [
    "%%sql\n",
    "SELECT\n",
    "    name,\n",
    "    type\n",
    "FROM sqlite_master\n",
    "WHERE type IN (\"table\",\"view\")"
   ]
  },
  {
   "cell_type": "markdown",
   "metadata": {},
   "source": [
    "### Most sold genres in the USA\n",
    "\n",
    "There are 4 artists who have brought out 1 new album each, 3 of which will be added to the Chinook store and advertised for. We need to determine which genres sell the best in the USA so that we can determine which of these 4 albums are worth our advertising investment.\n",
    "\n",
    "| Artist Name          | Genre   |\n",
    "|----------------------|---------|\n",
    "| Regal                | Hip-Hop |\n",
    "| Red Tone             | Punk    |\n",
    "| Meteor and the Girls | Pop     |\n",
    "| Slim Jim Bites       | Blues   |"
   ]
  },
  {
   "cell_type": "code",
   "execution_count": 5,
   "metadata": {
    "scrolled": true
   },
   "outputs": [
    {
     "name": "stdout",
     "output_type": "stream",
     "text": [
      " * sqlite:///chinook.db\n",
      "Done.\n"
     ]
    },
    {
     "data": {
      "text/html": [
       "<table>\n",
       "    <tr>\n",
       "        <th>genre</th>\n",
       "        <th>tracks_sold_abs</th>\n",
       "        <th>tracks_sold_pct</th>\n",
       "    </tr>\n",
       "    <tr>\n",
       "        <td>Alternative &amp; Punk</td>\n",
       "        <td>130</td>\n",
       "        <td>12.369172216936251</td>\n",
       "    </tr>\n",
       "    <tr>\n",
       "        <td>Blues</td>\n",
       "        <td>36</td>\n",
       "        <td>3.425309229305423</td>\n",
       "    </tr>\n",
       "    <tr>\n",
       "        <td>Hip Hop/Rap</td>\n",
       "        <td>20</td>\n",
       "        <td>1.9029495718363463</td>\n",
       "    </tr>\n",
       "    <tr>\n",
       "        <td>Pop</td>\n",
       "        <td>22</td>\n",
       "        <td>2.093244529019981</td>\n",
       "    </tr>\n",
       "</table>"
      ],
      "text/plain": [
       "[('Alternative & Punk', 130, 12.369172216936251),\n",
       " ('Blues', 36, 3.425309229305423),\n",
       " ('Hip Hop/Rap', 20, 1.9029495718363463),\n",
       " ('Pop', 22, 2.093244529019981)]"
      ]
     },
     "execution_count": 5,
     "metadata": {},
     "output_type": "execute_result"
    }
   ],
   "source": [
    "%%sql\n",
    "\n",
    "WITH overall AS (\n",
    "    SELECT\n",
    "        i.billing_country AS country,\n",
    "        SUM(il.quantity) AS total\n",
    "    FROM invoice_line AS il\n",
    "    LEFT JOIN invoice AS i ON i.invoice_id = il.invoice_id\n",
    "    WHERE i.billing_country = \"USA\"\n",
    "    ), \n",
    "    \n",
    "    genres AS (\n",
    "    SELECT \n",
    "        g.name,\n",
    "        SUM(il.quantity) AS tracks_sold_abs,\n",
    "        i.billing_country AS country\n",
    "    FROM invoice_line AS il\n",
    "    LEFT JOIN track AS t ON il.track_id = t.track_id\n",
    "    LEFT JOIN genre AS g ON t.genre_id = g.genre_id\n",
    "    LEFT JOIN invoice AS i ON i.invoice_id = il.invoice_id\n",
    "    WHERE i.billing_country = \"USA\"\n",
    "    GROUP BY g.name\n",
    "    ),\n",
    "    result AS (\n",
    "    SELECT \n",
    "        g.name AS genre,\n",
    "        g.tracks_sold_abs,\n",
    "        CAST(g.tracks_sold_abs AS FLOAT) / CAST(o.total AS FLOAT) * 100 AS tracks_sold_pct\n",
    "    FROM genres AS g\n",
    "    LEFT JOIN overall AS o ON g.country = o.country\n",
    "    )\n",
    "    \n",
    "SELECT *\n",
    "FROM result\n",
    "WHERE genre LIKE '%Punk%' OR genre LIKE '%Hip Hop%'  OR genre LIKE '%Blues%' OR genre LIKE '%Pop%'"
   ]
  },
  {
   "cell_type": "markdown",
   "metadata": {},
   "source": [
    "The Punk genre is lumped in together with Alternative, which may skew the results somewhat. It is by far the most successful genre however. Hiphop loses out to Pop just by a very low margin as the worst performer.\n",
    "\n",
    "It would make sense to spend the advertising budget according to these percentages, i.e. the majority going to the Alternative & Punk album."
   ]
  },
  {
   "cell_type": "markdown",
   "metadata": {},
   "source": [
    "### Performance of sales support agents\n",
    "\n",
    "Each customer of the Chinook store gets assigned to a sales support agent within the company when they first make a purchase. The company wants to analyse the purchases of customers belonging to each employee to see if any sales support agent is performing either better or worse than the others."
   ]
  },
  {
   "cell_type": "code",
   "execution_count": 43,
   "metadata": {},
   "outputs": [
    {
     "name": "stdout",
     "output_type": "stream",
     "text": [
      " * sqlite:///chinook.db\n",
      "Done.\n"
     ]
    },
    {
     "data": {
      "text/html": [
       "<table>\n",
       "    <tr>\n",
       "        <th>employee_name</th>\n",
       "        <th>title</th>\n",
       "        <th>hire_date</th>\n",
       "        <th>total_dollars</th>\n",
       "    </tr>\n",
       "    <tr>\n",
       "        <td>Jane Peacock</td>\n",
       "        <td>Sales Support Agent</td>\n",
       "        <td>2017-04-01 00:00:00</td>\n",
       "        <td>1731.510000000004</td>\n",
       "    </tr>\n",
       "    <tr>\n",
       "        <td>Margaret Park</td>\n",
       "        <td>Sales Support Agent</td>\n",
       "        <td>2017-05-03 00:00:00</td>\n",
       "        <td>1584.0000000000032</td>\n",
       "    </tr>\n",
       "    <tr>\n",
       "        <td>Steve Johnson</td>\n",
       "        <td>Sales Support Agent</td>\n",
       "        <td>2017-10-17 00:00:00</td>\n",
       "        <td>1393.9200000000028</td>\n",
       "    </tr>\n",
       "</table>"
      ],
      "text/plain": [
       "[('Jane Peacock', 'Sales Support Agent', '2017-04-01 00:00:00', 1731.510000000004),\n",
       " ('Margaret Park', 'Sales Support Agent', '2017-05-03 00:00:00', 1584.0000000000032),\n",
       " ('Steve Johnson', 'Sales Support Agent', '2017-10-17 00:00:00', 1393.9200000000028)]"
      ]
     },
     "execution_count": 43,
     "metadata": {},
     "output_type": "execute_result"
    }
   ],
   "source": [
    "%%sql\n",
    "\n",
    "SELECT\n",
    "    e.first_name || \" \" || e.last_name AS employee_name,\n",
    "    e.title,\n",
    "    e.hire_date,\n",
    "    SUM(i.total) AS total_dollars\n",
    "FROM employee AS e\n",
    "LEFT JOIN customer AS c ON e.employee_id = c.support_rep_id\n",
    "LEFT JOIN invoice AS i ON c.customer_id = i.customer_id\n",
    "WHERE title = \"Sales Support Agent\"\n",
    "GROUP BY e.employee_id"
   ]
  },
  {
   "cell_type": "markdown",
   "metadata": {},
   "source": [
    "While Jane Peacock has the highest dollar amount, she has also worked at the company the longest. Steven Johnson, who joined 6 months later, seems to be remarkably close in dollar amount. There is no data on how many hours a week each employee works though, which would also influence results. \n",
    "\n",
    "The next best thing is to take the length of their employment in number of days and divide the total_dollars by that amount, to get an estimate of how much revenue sales support agents are bringing in. This will not give us a true absolute value, as this uses calendar days rather than working days. "
   ]
  },
  {
   "cell_type": "code",
   "execution_count": 44,
   "metadata": {
    "scrolled": true
   },
   "outputs": [
    {
     "name": "stdout",
     "output_type": "stream",
     "text": [
      " * sqlite:///chinook.db\n",
      "Done.\n"
     ]
    },
    {
     "data": {
      "text/html": [
       "<table>\n",
       "    <tr>\n",
       "        <th>employee_name</th>\n",
       "        <th>title</th>\n",
       "        <th>hire_date</th>\n",
       "        <th>days_employed</th>\n",
       "        <th>total_dollars</th>\n",
       "        <th>dollars_per_day</th>\n",
       "    </tr>\n",
       "    <tr>\n",
       "        <td>Jane Peacock</td>\n",
       "        <td>Sales Support Agent</td>\n",
       "        <td>2017-04-01 00:00:00</td>\n",
       "        <td>1370.0</td>\n",
       "        <td>1731.510000000004</td>\n",
       "        <td>1.2638759124087622</td>\n",
       "    </tr>\n",
       "    <tr>\n",
       "        <td>Margaret Park</td>\n",
       "        <td>Sales Support Agent</td>\n",
       "        <td>2017-05-03 00:00:00</td>\n",
       "        <td>1338.0</td>\n",
       "        <td>1584.0000000000032</td>\n",
       "        <td>1.1838565022421548</td>\n",
       "    </tr>\n",
       "    <tr>\n",
       "        <td>Steve Johnson</td>\n",
       "        <td>Sales Support Agent</td>\n",
       "        <td>2017-10-17 00:00:00</td>\n",
       "        <td>1171.0</td>\n",
       "        <td>1393.9200000000028</td>\n",
       "        <td>1.190367207514947</td>\n",
       "    </tr>\n",
       "</table>"
      ],
      "text/plain": [
       "[('Jane Peacock', 'Sales Support Agent', '2017-04-01 00:00:00', 1370.0, 1731.510000000004, 1.2638759124087622),\n",
       " ('Margaret Park', 'Sales Support Agent', '2017-05-03 00:00:00', 1338.0, 1584.0000000000032, 1.1838565022421548),\n",
       " ('Steve Johnson', 'Sales Support Agent', '2017-10-17 00:00:00', 1171.0, 1393.9200000000028, 1.190367207514947)]"
      ]
     },
     "execution_count": 44,
     "metadata": {},
     "output_type": "execute_result"
    }
   ],
   "source": [
    "%%sql\n",
    "\n",
    "SELECT\n",
    "    e.first_name || \" \" || e.last_name AS employee_name,\n",
    "    e.title,\n",
    "    e.hire_date,\n",
    "    julianday('2020-12-31') - julianday(e.hire_date) AS days_employed,\n",
    "    SUM(i.total) AS total_dollars,\n",
    "    SUM(i.total) / (julianday('2020-12-31') - julianday(e.hire_date)) AS dollars_per_day\n",
    "FROM employee AS e\n",
    "LEFT JOIN customer AS c ON e.employee_id = c.support_rep_id\n",
    "LEFT JOIN invoice AS i ON c.customer_id = i.customer_id\n",
    "WHERE title = \"Sales Support Agent\"\n",
    "GROUP BY e.employee_id"
   ]
  },
  {
   "cell_type": "markdown",
   "metadata": {},
   "source": [
    "It seems that even when corrected for her working there the longest, Jane Peacock still brings in the most revenue."
   ]
  },
  {
   "cell_type": "markdown",
   "metadata": {},
   "source": [
    "### Sales by country\n",
    "\n",
    "Per country, the company wants to know:\n",
    "- total number of customers  \n",
    "- total value of sales  \n",
    "- average value of sales per customer  \n",
    "- average order value  \n",
    "\n",
    "For countries where there is only 1 customer, these customers will be grouped in the category *Other*."
   ]
  },
  {
   "cell_type": "code",
   "execution_count": 8,
   "metadata": {},
   "outputs": [
    {
     "name": "stdout",
     "output_type": "stream",
     "text": [
      " * sqlite:///chinook.db\n",
      "Done.\n"
     ]
    },
    {
     "data": {
      "text/html": [
       "<table>\n",
       "    <tr>\n",
       "        <th>country</th>\n",
       "        <th>customers</th>\n",
       "        <th>total_value</th>\n",
       "        <th>avg_customer_value</th>\n",
       "        <th>avg_value</th>\n",
       "    </tr>\n",
       "    <tr>\n",
       "        <td>Brazil</td>\n",
       "        <td>5</td>\n",
       "        <td>427.68</td>\n",
       "        <td>85.54</td>\n",
       "        <td>7.01</td>\n",
       "    </tr>\n",
       "    <tr>\n",
       "        <td>Canada</td>\n",
       "        <td>8</td>\n",
       "        <td>535.59</td>\n",
       "        <td>66.95</td>\n",
       "        <td>7.05</td>\n",
       "    </tr>\n",
       "    <tr>\n",
       "        <td>Czech Republic</td>\n",
       "        <td>2</td>\n",
       "        <td>273.24</td>\n",
       "        <td>136.62</td>\n",
       "        <td>9.11</td>\n",
       "    </tr>\n",
       "    <tr>\n",
       "        <td>France</td>\n",
       "        <td>5</td>\n",
       "        <td>389.07</td>\n",
       "        <td>77.81</td>\n",
       "        <td>7.78</td>\n",
       "    </tr>\n",
       "    <tr>\n",
       "        <td>Germany</td>\n",
       "        <td>4</td>\n",
       "        <td>334.62</td>\n",
       "        <td>83.65</td>\n",
       "        <td>8.16</td>\n",
       "    </tr>\n",
       "    <tr>\n",
       "        <td>India</td>\n",
       "        <td>2</td>\n",
       "        <td>183.15</td>\n",
       "        <td>91.57</td>\n",
       "        <td>8.72</td>\n",
       "    </tr>\n",
       "    <tr>\n",
       "        <td>Portugal</td>\n",
       "        <td>2</td>\n",
       "        <td>185.13</td>\n",
       "        <td>92.56</td>\n",
       "        <td>6.38</td>\n",
       "    </tr>\n",
       "    <tr>\n",
       "        <td>USA</td>\n",
       "        <td>13</td>\n",
       "        <td>1040.49</td>\n",
       "        <td>80.04</td>\n",
       "        <td>7.94</td>\n",
       "    </tr>\n",
       "    <tr>\n",
       "        <td>United Kingdom</td>\n",
       "        <td>3</td>\n",
       "        <td>245.52</td>\n",
       "        <td>81.84</td>\n",
       "        <td>8.77</td>\n",
       "    </tr>\n",
       "    <tr>\n",
       "        <td>Other</td>\n",
       "        <td>15</td>\n",
       "        <td>73.0</td>\n",
       "        <td>4.87</td>\n",
       "        <td>7.45</td>\n",
       "    </tr>\n",
       "</table>"
      ],
      "text/plain": [
       "[('Brazil', 5, 427.68, 85.54, 7.01),\n",
       " ('Canada', 8, 535.59, 66.95, 7.05),\n",
       " ('Czech Republic', 2, 273.24, 136.62, 9.11),\n",
       " ('France', 5, 389.07, 77.81, 7.78),\n",
       " ('Germany', 4, 334.62, 83.65, 8.16),\n",
       " ('India', 2, 183.15, 91.57, 8.72),\n",
       " ('Portugal', 2, 185.13, 92.56, 6.38),\n",
       " ('USA', 13, 1040.49, 80.04, 7.94),\n",
       " ('United Kingdom', 3, 245.52, 81.84, 8.77),\n",
       " ('Other', 15, 73.0, 4.87, 7.45)]"
      ]
     },
     "execution_count": 8,
     "metadata": {},
     "output_type": "execute_result"
    }
   ],
   "source": [
    "%%sql\n",
    "\n",
    "WITH \n",
    "    other AS (\n",
    "        SELECT\n",
    "            c.country,\n",
    "            COUNT(DISTINCT c.customer_id) AS customers,\n",
    "            c.customer_id,\n",
    "            SUM(i.total) AS total_value,\n",
    "            CAST(SUM(i.total) AS FLOAT) / CAST(COUNT(i.total) AS FLOAT) AS avg_value\n",
    "        FROM customer AS c\n",
    "        LEFT JOIN invoice AS i ON c.customer_id = i.customer_id\n",
    "        GROUP BY c.country\n",
    "        HAVING customers = 1\n",
    "    ),\n",
    "    other_result AS (\n",
    "        SELECT\n",
    "            \"Other\" AS country,\n",
    "            SUM(customers) AS total_customers,\n",
    "            AVG(total_value) AS avg_value_customer,\n",
    "            AVG(avg_value) AS avg_order_value,\n",
    "            2 AS rank\n",
    "        FROM other\n",
    "    ),\n",
    "    countries AS (\n",
    "        SELECT\n",
    "            c.country,\n",
    "            COUNT(DISTINCT c.customer_id) AS customers,\n",
    "            SUM(i.total) AS total_value,\n",
    "            CAST(SUM(i.total) AS FLOAT) / CAST(COUNT(i.total) AS FLOAT) AS avg_value,\n",
    "            1 AS rank\n",
    "        FROM customer AS c\n",
    "        LEFT JOIN invoice AS i ON c.customer_id = i.customer_id\n",
    "        GROUP BY c.country\n",
    "        HAVING customers > 1\n",
    "    ),\n",
    "    ranking AS (\n",
    "        SELECT *\n",
    "        FROM countries\n",
    "        UNION\n",
    "        SELECT *\n",
    "        FROM other_result\n",
    "        ORDER BY rank\n",
    "    )\n",
    "    \n",
    "SELECT \n",
    "    country,\n",
    "    customers,\n",
    "    ROUND(total_value,2) AS total_value,\n",
    "    ROUND(total_value / CAST(customers AS FLOAT),2) AS avg_customer_value,\n",
    "    ROUND(avg_value,2) AS avg_value \n",
    "FROM ranking"
   ]
  },
  {
   "cell_type": "markdown",
   "metadata": {},
   "source": [
    "### Purchases: whole album vs individual tracks\n",
    "\n",
    "The company wants to know how many purchases are of a whole album vs individual tracks to inform the purchasing strategy.\n",
    "\n",
    "There will be some edge cases that will reduce the accuracy of the analysis somewhat, such as albums which consist of only 1 track or customers buying each track on an album individually. The company has already confirmed that these cases are rare and thus of not too much influence."
   ]
  },
  {
   "cell_type": "code",
   "execution_count": 9,
   "metadata": {
    "scrolled": true
   },
   "outputs": [
    {
     "name": "stdout",
     "output_type": "stream",
     "text": [
      " * sqlite:///chinook.db\n",
      "Done.\n"
     ]
    },
    {
     "data": {
      "text/html": [
       "<table>\n",
       "    <tr>\n",
       "        <th>album_purchase</th>\n",
       "        <th>num_invoices</th>\n",
       "        <th>pct_invoices</th>\n",
       "    </tr>\n",
       "    <tr>\n",
       "        <td>NO</td>\n",
       "        <td>500</td>\n",
       "        <td>81.43</td>\n",
       "    </tr>\n",
       "    <tr>\n",
       "        <td>YES</td>\n",
       "        <td>114</td>\n",
       "        <td>18.57</td>\n",
       "    </tr>\n",
       "</table>"
      ],
      "text/plain": [
       "[('NO', 500, 81.43), ('YES', 114, 18.57)]"
      ]
     },
     "execution_count": 9,
     "metadata": {},
     "output_type": "execute_result"
    }
   ],
   "source": [
    "%%sql\n",
    "WITH\n",
    "    purchased AS (\n",
    "        SELECT \n",
    "            il.invoice_id, \n",
    "            t.album_id,\n",
    "            COUNT(DISTINCT il.track_id) AS tracks\n",
    "        FROM invoice_line AS il\n",
    "        LEFT JOIN track AS t ON t.track_id = il.track_id\n",
    "        GROUP BY 1,2\n",
    "        ORDER BY 1,2\n",
    "    ),\n",
    "    \n",
    "    albums AS (\n",
    "        SELECT\n",
    "            album_id,\n",
    "            COUNT(DISTINCT track_id) AS tracks\n",
    "        FROM track\n",
    "        GROUP BY 1\n",
    "        ORDER BY 1\n",
    "    ),\n",
    "\n",
    "    overall AS (\n",
    "        SELECT \n",
    "            p.invoice_id,\n",
    "            p.album_id AS p_album_id,\n",
    "            p.tracks AS p_tracks,\n",
    "            a.album_id AS a_album_id,\n",
    "            a.tracks AS a_tracks\n",
    "        FROM purchased AS p\n",
    "        LEFT JOIN albums AS a ON p.album_id = a.album_id\n",
    "    ),\n",
    "    result AS (\n",
    "        SELECT \n",
    "            o.*,\n",
    "            CASE\n",
    "                WHEN p_tracks = a_tracks THEN 'YES'\n",
    "                WHEN p_tracks > a_tracks THEN 'AWKWARD'\n",
    "                WHEN p_tracks < a_tracks THEN 'NO'\n",
    "                END AS album_purchase\n",
    "        FROM overall AS o\n",
    "        ORDER BY album_purchase ASC\n",
    "    ),\n",
    "    sorted_result AS (\n",
    "        SELECT *\n",
    "        FROM result\n",
    "        GROUP BY invoice_id\n",
    "    )\n",
    "      \n",
    "SELECT\n",
    "    sr.album_purchase,\n",
    "    COUNT(sr.invoice_id) AS num_invoices,\n",
    "    ROUND(CAST(COUNT(sr.invoice_id) AS FLOAT) / CAST((SELECT COUNT(*) FROM sorted_result) AS FLOAT) * 100,2) AS pct_invoices\n",
    "FROM sorted_result AS sr\n",
    "GROUP BY 1"
   ]
  },
  {
   "cell_type": "markdown",
   "metadata": {},
   "source": [
    "Looking through the data, it became apparent that multiple customers bought entire albums by buying the tracks individually. Some of these orders were identified because customers can either (a) buy an entire album or (b) buy individual tracks, which can amount to an album (plus potentially additional songs). In the case where additional songs were added, these were identified as orders where customers ordered individual songs. In the case where customers bought exactly all the songs on one album, these were always identified as an album purchase.\n",
    "\n",
    "Acknowledging this caveat in the analysis, about 81% out of all orders were done as individual songs and not as an album purchase."
   ]
  }
 ],
 "metadata": {
  "kernelspec": {
   "display_name": "Python 3",
   "language": "python",
   "name": "python3"
  },
  "language_info": {
   "codemirror_mode": {
    "name": "ipython",
    "version": 3
   },
   "file_extension": ".py",
   "mimetype": "text/x-python",
   "name": "python",
   "nbconvert_exporter": "python",
   "pygments_lexer": "ipython3",
   "version": "3.7.2"
  }
 },
 "nbformat": 4,
 "nbformat_minor": 2
}
