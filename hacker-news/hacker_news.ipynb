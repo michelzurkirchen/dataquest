{
 "cells": [
  {
   "cell_type": "markdown",
   "metadata": {},
   "source": [
    "# Hacker News\n",
    "## DataQuest project\n",
    "\n",
    "This notebook deals with a fictional scenario as part of the Dataquest.io curriculum.\n",
    "\n",
    "#### Scenario\n",
    "The website Hacker News is focused on tech and allows users to submit posts to the website, which other users can upvote, downvote or comment on. Two recurring post types are posts that start with either **Show HN** or **Ask HN**. \n",
    "\n",
    "The analysis here will focus on which of the two generates more comments and at which time of day you should post to generate the most comments.\n",
    "\n",
    "#### Dataset\n",
    "The original dataset can be found on [Kaggle](https://www.kaggle.com/hacker-news/hacker-news-posts)"
   ]
  },
  {
   "cell_type": "code",
   "execution_count": 1,
   "metadata": {},
   "outputs": [],
   "source": [
    "from csv import reader\n",
    "import datetime as dt\n",
    "\n",
    "hn = list(reader(open(\"HN_posts_year_to_Sep_26_2016.csv\")))"
   ]
  },
  {
   "cell_type": "markdown",
   "metadata": {},
   "source": [
    "### Data exploration"
   ]
  },
  {
   "cell_type": "code",
   "execution_count": 2,
   "metadata": {},
   "outputs": [
    {
     "name": "stdout",
     "output_type": "stream",
     "text": [
      "['id', 'title', 'url', 'num_points', 'num_comments', 'author', 'created_at']\n",
      "\n",
      "\n",
      "['12579008', 'You have two days to comment if you want stem cells to be classified as your own', 'http://www.regulations.gov/document?D=FDA-2015-D-3719-0018', '1', '0', 'altstar', '9/26/2016 3:26']\n",
      "\n",
      "\n",
      "['12579005', 'SQLAR  the SQLite Archiver', 'https://www.sqlite.org/sqlar/doc/trunk/README.md', '1', '0', 'blacksqr', '9/26/2016 3:24']\n",
      "\n",
      "\n",
      "['12578997', 'What if we just printed a flatscreen television on the side of our boxes?', 'https://medium.com/vanmoof/our-secrets-out-f21c1f03fdc8#.ietxmez43', '1', '0', 'pavel_lishin', '9/26/2016 3:19']\n",
      "\n",
      "\n",
      "['12578989', 'algorithmic music', 'http://cacm.acm.org/magazines/2011/7/109891-algorithmic-composition/fulltext', '1', '0', 'poindontcare', '9/26/2016 3:16']\n",
      "\n",
      "\n"
     ]
    }
   ],
   "source": [
    "for idx, row in enumerate(hn):\n",
    "    if idx == 5:\n",
    "        break\n",
    "    print(row)\n",
    "    print(\"\\n\")"
   ]
  },
  {
   "cell_type": "markdown",
   "metadata": {},
   "source": [
    "### Data cleaning"
   ]
  },
  {
   "cell_type": "code",
   "execution_count": 3,
   "metadata": {},
   "outputs": [],
   "source": [
    "# Storing headers in a separate variable\n",
    "\n",
    "headers = hn[0]\n",
    "hn = hn[1:]"
   ]
  },
  {
   "cell_type": "code",
   "execution_count": 4,
   "metadata": {},
   "outputs": [],
   "source": [
    "# Splitting posts into 3 different categories\n",
    "\n",
    "ask_hn = []\n",
    "show_hn = []\n",
    "other_hn = []\n",
    "\n",
    "for post in hn:\n",
    "    post_title = post[1].lower()\n",
    "    if post_title.startswith('ask hn'):\n",
    "        ask_hn.append(post)\n",
    "    elif post_title.startswith('show hn'):\n",
    "        show_hn.append(post)\n",
    "    else:\n",
    "        other_hn.append(post)"
   ]
  },
  {
   "cell_type": "code",
   "execution_count": 5,
   "metadata": {
    "scrolled": true
   },
   "outputs": [
    {
     "name": "stdout",
     "output_type": "stream",
     "text": [
      "Ask HN: 9139\n",
      "Show HN: 10158\n",
      "Other posts: 273822\n",
      "Actual total: 293119\n",
      "Expected total: 293119\n"
     ]
    }
   ],
   "source": [
    "# Verifying that we still have the expected amount of posts.\n",
    "\n",
    "print(\"Ask HN: \" + str(len(ask_hn)))\n",
    "print(\"Show HN: \" + str(len(show_hn)))\n",
    "print(\"Other posts: \" + str(len(other_hn)))\n",
    "print(\"Actual total: \" + str(len(ask_hn) + len(show_hn) + len(other_hn)))\n",
    "print(\"Expected total: \" + str(len(hn)))      "
   ]
  },
  {
   "cell_type": "code",
   "execution_count": 6,
   "metadata": {},
   "outputs": [],
   "source": [
    "# Finding the total and average number of comments for ask and show posts.\n",
    "\n",
    "total_ask_comments = 0\n",
    "\n",
    "for post in ask_hn:\n",
    "    total_ask_comments += int(post[4])\n",
    "    \n",
    "avg_ask_comments = total_ask_comments / len(ask_hn)\n",
    "\n",
    "\n",
    "total_show_comments = 0\n",
    "\n",
    "for post in show_hn:\n",
    "    total_show_comments += int(post[4])\n",
    "    \n",
    "avg_show_comments = total_show_comments / len(show_hn)"
   ]
  },
  {
   "cell_type": "code",
   "execution_count": 7,
   "metadata": {},
   "outputs": [
    {
     "name": "stdout",
     "output_type": "stream",
     "text": [
      "Average comments for Ask HN posts: 10.393478498741656\n",
      "Average comments for Show HN posts: 4.886099625910612\n"
     ]
    }
   ],
   "source": [
    "print(\"Average comments for Ask HN posts: \" + str(avg_ask_comments))\n",
    "print(\"Average comments for Show HN posts: \" + str(avg_show_comments))"
   ]
  },
  {
   "cell_type": "markdown",
   "metadata": {},
   "source": [
    "### Conclusion 1: Average comments Ask HN vs. Show HN\n",
    "\n",
    "Ask HN posts on average clearly receive a higher amount of comments than Show HN posts do. Because this analysis is looking to find posts which attract the highest amount of comments, the remainder of this analysis will focus on Ask HN posts.\n",
    "\n",
    "To determine the ideal time to post an Ask HN, we look at the created_at value of all Ask HN posts and categorise them by hour. Analysing the total number of comments that came in on posts by the hour, divided by the number of posts gives an average number of comments per hour."
   ]
  },
  {
   "cell_type": "code",
   "execution_count": 8,
   "metadata": {},
   "outputs": [],
   "source": [
    "# Number of posts and comments per hour\n",
    "\n",
    "times_comments = {}\n",
    "times_posts = {}\n",
    "\n",
    "for post in ask_hn: \n",
    "    date_time = dt.datetime.strptime(post[6], \"%m/%d/%Y %H:%M\")\n",
    "    time = date_time.strftime(\"%H\")\n",
    "    comments = int(post[4])\n",
    "    \n",
    "    if time in times_comments:\n",
    "        times_comments[time] += comments\n",
    "        times_posts[time] += 1\n",
    "        \n",
    "    else:\n",
    "        times_comments[time] = comments\n",
    "        times_posts[time] = 1"
   ]
  },
  {
   "cell_type": "code",
   "execution_count": 9,
   "metadata": {},
   "outputs": [],
   "source": [
    "# Average comments per post per hour\n",
    "\n",
    "times_avg = {}\n",
    "\n",
    "for hour in times_comments:\n",
    "    avg = times_comments[hour] / times_posts[hour]\n",
    "    times_avg[hour] = avg"
   ]
  },
  {
   "cell_type": "code",
   "execution_count": 10,
   "metadata": {},
   "outputs": [],
   "source": [
    "# Converting dictionary to list for easier sorting\n",
    "\n",
    "times_list = []\n",
    "\n",
    "for hour in times_avg:\n",
    "    avg = [times_avg[hour], hour]\n",
    "    times_list.append(avg)\n",
    "    \n",
    "times_list = sorted(times_list, reverse=True)"
   ]
  },
  {
   "cell_type": "code",
   "execution_count": 11,
   "metadata": {},
   "outputs": [
    {
     "data": {
      "text/plain": [
       "[[28.676470588235293, '15'],\n",
       " [16.31756756756757, '13'],\n",
       " [12.380116959064328, '12'],\n",
       " [11.137546468401487, '02'],\n",
       " [10.684397163120567, '10'],\n",
       " [9.7119341563786, '04'],\n",
       " [9.692007797270955, '14'],\n",
       " [9.449744463373083, '17'],\n",
       " [9.190661478599221, '08'],\n",
       " [8.96474358974359, '11'],\n",
       " [8.804177545691905, '22'],\n",
       " [8.794258373205741, '05'],\n",
       " [8.749019607843136, '20'],\n",
       " [8.687258687258687, '21'],\n",
       " [7.948339483394834, '03'],\n",
       " [7.94299674267101, '18'],\n",
       " [7.713298791018998, '16'],\n",
       " [7.5647840531561465, '00'],\n",
       " [7.407801418439717, '01'],\n",
       " [7.163043478260869, '19'],\n",
       " [7.013274336283186, '07'],\n",
       " [6.782051282051282, '06'],\n",
       " [6.696793002915452, '23'],\n",
       " [6.653153153153153, '09']]"
      ]
     },
     "execution_count": 11,
     "metadata": {},
     "output_type": "execute_result"
    }
   ],
   "source": [
    "times_list"
   ]
  },
  {
   "cell_type": "markdown",
   "metadata": {},
   "source": [
    "### Conclusion 2: Average comments per hour"
   ]
  },
  {
   "cell_type": "code",
   "execution_count": 12,
   "metadata": {},
   "outputs": [
    {
     "name": "stdout",
     "output_type": "stream",
     "text": [
      "Top 5 hours in Eastern US time (UTC-4) for Ask HN posts comments\n",
      "\n",
      "\n",
      "15:00: 28.68 average comments per post.\n",
      "13:00: 16.32 average comments per post.\n",
      "12:00: 12.38 average comments per post.\n",
      "02:00: 11.14 average comments per post.\n",
      "10:00: 10.68 average comments per post.\n"
     ]
    }
   ],
   "source": [
    "print(\"Top 5 hours in Eastern US time (UTC-4) for Ask HN posts comments\")\n",
    "print(\"\\n\")\n",
    "\n",
    "for item in times_list[:5]:\n",
    "    time = item[1] + \":00\"\n",
    "    comments = item[0]\n",
    "    print(\"{}: {:.2f} average comments per post.\".format(time, comments))"
   ]
  },
  {
   "cell_type": "code",
   "execution_count": 24,
   "metadata": {},
   "outputs": [
    {
     "name": "stdout",
     "output_type": "stream",
     "text": [
      "Top 5 hours in Amsterdam time (UTC+1) for Ask HN posts comments\n",
      "\n",
      "\n",
      "20:00: 28.68 average comments per post.\n",
      "18:00: 16.32 average comments per post.\n",
      "17:00: 12.38 average comments per post.\n",
      "7:00: 11.14 average comments per post.\n",
      "15:00: 10.68 average comments per post.\n"
     ]
    }
   ],
   "source": [
    "print(\"Top 5 hours in Amsterdam time (UTC+1) for Ask HN posts comments\")\n",
    "print(\"\\n\")\n",
    "\n",
    "for item in times_list[:5]:\n",
    "    time = str((int(item[1]) + 5)) + \":00\"\n",
    "    comments = item[0]\n",
    "    print(\"{}: {:.2f} average comments per post.\".format(time, comments))"
   ]
  },
  {
   "cell_type": "code",
   "execution_count": null,
   "metadata": {},
   "outputs": [],
   "source": []
  }
 ],
 "metadata": {
  "kernelspec": {
   "display_name": "Python 3",
   "language": "python",
   "name": "python3"
  },
  "language_info": {
   "codemirror_mode": {
    "name": "ipython",
    "version": 3
   },
   "file_extension": ".py",
   "mimetype": "text/x-python",
   "name": "python",
   "nbconvert_exporter": "python",
   "pygments_lexer": "ipython3",
   "version": "3.7.2"
  }
 },
 "nbformat": 4,
 "nbformat_minor": 2
}
